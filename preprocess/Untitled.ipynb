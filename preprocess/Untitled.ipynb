{
 "cells": [
  {
   "cell_type": "code",
   "execution_count": 48,
   "metadata": {},
   "outputs": [],
   "source": [
    "import random\n",
    "from functools import reduce\n",
    "\n",
    "def MLM(list_of_words, min_num = 2, max_num = 6, max_ratio = 0.2, tokenizer):\n",
    "    \n",
    "    list_of_words = list(map(lambda x: tokenizer.encode(x), list_of_words))\n",
    "    index_to_mask = random.sample(range(0,len(list_of_words)), min(random.randint(min_num, max_num), round(len(list_of_words) * max_ratio))  )\n",
    "    tar = reduce(lambda x,y : x+y, [list_of_words[i] for i in index_to_mask])\n",
    "    masked = []\n",
    "    for i in range(len(list_of_words)):\n",
    "        if i in index_to_mask:\n",
    "            masked.append([\"<masked>\"]*len(list_of_words[i]))\n",
    "        else:\n",
    "            masked.append(list_of_words[i])\n",
    "    masked = reduce(lambda x,y : x+y, masked)\n",
    "    return(masked, tar, [0]*len(masked))\n",
    "    "
   ]
  },
  {
   "cell_type": "code",
   "execution_count": 49,
   "metadata": {},
   "outputs": [
    {
     "name": "stdout",
     "output_type": "stream",
     "text": [
      "['I', '<masked>', 'playing', '<masked>', 'das', 'sad', 'fgsdf', 'dfsg']\n"
     ]
    }
   ],
   "source": [
    "MLM(a)"
   ]
  },
  {
   "cell_type": "code",
   "execution_count": 39,
   "metadata": {},
   "outputs": [
    {
     "data": {
      "text/plain": [
       "[1, 4, 3, 2, 4, 3]"
      ]
     },
     "execution_count": 39,
     "metadata": {},
     "output_type": "execute_result"
    }
   ],
   "source": [
    "reduce(lambda x,y:x+y, [[1,4,3],[2,4], [3]])\n"
   ]
  },
  {
   "cell_type": "code",
   "execution_count": 41,
   "metadata": {},
   "outputs": [
    {
     "data": {
      "text/plain": [
       "['masked', 'masked', 'masked']"
      ]
     },
     "execution_count": 41,
     "metadata": {},
     "output_type": "execute_result"
    }
   ],
   "source": [
    "[\"masked\"]*3"
   ]
  },
  {
   "cell_type": "code",
   "execution_count": 50,
   "metadata": {},
   "outputs": [
    {
     "data": {
      "text/plain": [
       "[0, 0, 0, 0, 0, 0, 0, 0, 0, 0, 0, 0, 0, 0, 0, 0, 0, 0, 0, 0]"
      ]
     },
     "execution_count": 50,
     "metadata": {},
     "output_type": "execute_result"
    }
   ],
   "source": [
    "[0]*20"
   ]
  },
  {
   "cell_type": "code",
   "execution_count": null,
   "metadata": {},
   "outputs": [],
   "source": []
  }
 ],
 "metadata": {
  "kernelspec": {
   "display_name": "Python 3",
   "language": "python",
   "name": "python3"
  },
  "language_info": {
   "codemirror_mode": {
    "name": "ipython",
    "version": 3
   },
   "file_extension": ".py",
   "mimetype": "text/x-python",
   "name": "python",
   "nbconvert_exporter": "python",
   "pygments_lexer": "ipython3",
   "version": "3.6.5"
  }
 },
 "nbformat": 4,
 "nbformat_minor": 4
}
